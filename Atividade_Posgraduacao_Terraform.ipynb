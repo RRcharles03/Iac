{
  "nbformat": 4,
  "nbformat_minor": 0,
  "metadata": {
    "colab": {
      "provenance": []
    },
    "kernelspec": {
      "name": "python3",
      "display_name": "Python 3"
    },
    "language_info": {
      "name": "python"
    }
  },
  "cells": [
    {
      "cell_type": "code",
      "execution_count": null,
      "metadata": {
        "colab": {
          "base_uri": "https://localhost:8080/"
        },
        "id": "Qd03c0FSfT8V",
        "outputId": "111affe3-a972-44a4-cdac-fe26e184e772"
      },
      "outputs": [
        {
          "output_type": "stream",
          "name": "stdout",
          "text": [
            "\r0% [Working]\r            \rHit:1 http://archive.ubuntu.com/ubuntu jammy InRelease\n",
            "Get:2 http://archive.ubuntu.com/ubuntu jammy-updates InRelease [128 kB]\n",
            "Get:3 https://cloud.r-project.org/bin/linux/ubuntu jammy-cran40/ InRelease [3,632 B]\n",
            "Get:4 https://developer.download.nvidia.com/compute/cuda/repos/ubuntu2204/x86_64  InRelease [1,581 B]\n",
            "Get:5 http://security.ubuntu.com/ubuntu jammy-security InRelease [129 kB]\n",
            "Get:6 http://archive.ubuntu.com/ubuntu jammy-backports InRelease [127 kB]\n",
            "Get:7 https://r2u.stat.illinois.edu/ubuntu jammy InRelease [6,555 B]\n",
            "Hit:8 https://ppa.launchpadcontent.net/deadsnakes/ppa/ubuntu jammy InRelease\n",
            "Get:9 https://developer.download.nvidia.com/compute/cuda/repos/ubuntu2204/x86_64  Packages [1,315 kB]\n",
            "Hit:10 https://ppa.launchpadcontent.net/graphics-drivers/ppa/ubuntu jammy InRelease\n",
            "Hit:11 https://ppa.launchpadcontent.net/ubuntugis/ppa/ubuntu jammy InRelease\n",
            "Get:12 http://archive.ubuntu.com/ubuntu jammy-updates/universe amd64 Packages [1,526 kB]\n",
            "Get:13 http://archive.ubuntu.com/ubuntu jammy-updates/main amd64 Packages [2,911 kB]\n",
            "Get:14 https://r2u.stat.illinois.edu/ubuntu jammy/main amd64 Packages [2,659 kB]\n",
            "Get:15 https://r2u.stat.illinois.edu/ubuntu jammy/main all Packages [8,682 kB]\n",
            "Get:16 http://security.ubuntu.com/ubuntu jammy-security/universe amd64 Packages [1,230 kB]\n",
            "Get:17 http://security.ubuntu.com/ubuntu jammy-security/main amd64 Packages [2,610 kB]\n",
            "Fetched 21.3 MB in 3s (8,502 kB/s)\n",
            "Reading package lists... Done\n",
            "W: Skipping acquire of configured file 'main/source/Sources' as repository 'https://r2u.stat.illinois.edu/ubuntu jammy InRelease' does not seem to provide it (sources.list entry misspelt?)\n",
            "Reading package lists... Done\n",
            "Building dependency tree... Done\n",
            "Reading state information... Done\n",
            "gnupg is already the newest version (2.2.27-3ubuntu2.1).\n",
            "gnupg set to manually installed.\n",
            "software-properties-common is already the newest version (0.99.22.9).\n",
            "0 upgraded, 0 newly installed, 0 to remove and 25 not upgraded.\n",
            "deb [signed-by=/usr/share/keyrings/hashicorp-archive-keyring.gpg] https://apt.releases.hashicorp.com jammy main\n",
            "Hit:1 http://archive.ubuntu.com/ubuntu jammy InRelease\n",
            "Hit:2 http://archive.ubuntu.com/ubuntu jammy-updates InRelease\n",
            "Hit:3 https://cloud.r-project.org/bin/linux/ubuntu jammy-cran40/ InRelease\n",
            "Hit:4 https://developer.download.nvidia.com/compute/cuda/repos/ubuntu2204/x86_64  InRelease\n",
            "Get:5 https://apt.releases.hashicorp.com jammy InRelease [12.9 kB]\n",
            "Hit:6 http://archive.ubuntu.com/ubuntu jammy-backports InRelease\n",
            "Hit:7 http://security.ubuntu.com/ubuntu jammy-security InRelease\n",
            "Hit:8 https://r2u.stat.illinois.edu/ubuntu jammy InRelease\n",
            "Hit:9 https://ppa.launchpadcontent.net/deadsnakes/ppa/ubuntu jammy InRelease\n",
            "Hit:10 https://ppa.launchpadcontent.net/graphics-drivers/ppa/ubuntu jammy InRelease\n",
            "Get:11 https://apt.releases.hashicorp.com jammy/main amd64 Packages [207 kB]\n",
            "Hit:12 https://ppa.launchpadcontent.net/ubuntugis/ppa/ubuntu jammy InRelease\n",
            "Fetched 220 kB in 1s (163 kB/s)\n",
            "Reading package lists... Done\n",
            "W: Skipping acquire of configured file 'main/source/Sources' as repository 'https://r2u.stat.illinois.edu/ubuntu jammy InRelease' does not seem to provide it (sources.list entry misspelt?)\n",
            "Reading package lists... Done\n",
            "Building dependency tree... Done\n",
            "Reading state information... Done\n",
            "The following NEW packages will be installed:\n",
            "  terraform\n",
            "0 upgraded, 1 newly installed, 0 to remove and 25 not upgraded.\n",
            "Need to get 27.4 MB of archives.\n",
            "After this operation, 90.2 MB of additional disk space will be used.\n",
            "Get:1 https://apt.releases.hashicorp.com jammy/main amd64 terraform amd64 1.10.5-1 [27.4 MB]\n",
            "Fetched 27.4 MB in 0s (62.7 MB/s)\n",
            "Selecting previously unselected package terraform.\n",
            "(Reading database ... 124926 files and directories currently installed.)\n",
            "Preparing to unpack .../terraform_1.10.5-1_amd64.deb ...\n",
            "Unpacking terraform (1.10.5-1) ...\n",
            "Setting up terraform (1.10.5-1) ...\n"
          ]
        }
      ],
      "source": [
        "# Instalar o terraform\n",
        "\n",
        "!apt-get update && apt-get install -y gnupg software-properties-common\n",
        "!wget -qO - https://apt.releases.hashicorp.com/gpg | gpg --dearmor > /usr/share/keyrings/hashicorp-archive-keyring.gpg\n",
        "!echo \"deb [signed-by=/usr/share/keyrings/hashicorp-archive-keyring.gpg] https://apt.releases.hashicorp.com $(lsb_release -cs) main\" | tee /etc/apt/sources.list.d/hashicorp.list\n",
        "!apt-get update && apt-get install -y terraform"
      ]
    },
    {
      "cell_type": "code",
      "source": [
        "# Verificar versão do terraform\n",
        "\n",
        "!terraform version"
      ],
      "metadata": {
        "colab": {
          "base_uri": "https://localhost:8080/"
        },
        "id": "tbSDB-GmfeIi",
        "outputId": "142015e9-4c57-4bfe-d8a4-985a2decb519"
      },
      "execution_count": null,
      "outputs": [
        {
          "output_type": "stream",
          "name": "stdout",
          "text": [
            "Terraform v1.10.5\n",
            "on linux_amd64\n"
          ]
        }
      ]
    },
    {
      "cell_type": "markdown",
      "source": [
        "# Atividade 1"
      ],
      "metadata": {
        "id": "i1N0uO6mlP_O"
      }
    },
    {
      "cell_type": "code",
      "source": [
        "# Criar o arquivo main.tf\n",
        "\n",
        "%%writefile main.tf\n",
        "terraform {\n",
        "  required_providers {\n",
        "    google = {\n",
        "      source  = \"hashicorp/google\"\n",
        "      version = \"~> 4.0\"\n",
        "    }\n",
        "  }\n",
        "}\n",
        "\n",
        "provider \"google\" {\n",
        "  credentials = file(\"absolute-vertex-451423-n7-54a62dba8bbd.json\") # Substitua pelo nome do seu arquivo\n",
        "  project     = \"absolute-vertex-451423-n7\"  # Substitua pelo ID do projeto\n",
        "  region      = \"us-central1\"\n",
        "}\n",
        "\n",
        "resource \"google_storage_bucket\" \"example\" {\n",
        "  name          = \"bucket-terraform-colab\"\n",
        "  location      = \"US\"\n",
        "  storage_class = \"STANDARD\"\n",
        "}\n"
      ],
      "metadata": {
        "colab": {
          "base_uri": "https://localhost:8080/"
        },
        "id": "DILaoPX3frl4",
        "outputId": "6beed166-5f73-4c92-9859-5837d5b5c523"
      },
      "execution_count": null,
      "outputs": [
        {
          "output_type": "stream",
          "name": "stdout",
          "text": [
            "Overwriting main.tf\n"
          ]
        }
      ]
    },
    {
      "cell_type": "code",
      "source": [
        "!terraform init\n",
        "!terraform apply -auto-approve"
      ],
      "metadata": {
        "colab": {
          "base_uri": "https://localhost:8080/"
        },
        "id": "YJ0l4Ggogj7O",
        "outputId": "343ed8fb-8c1c-4c91-b87d-8c02ccb56b83"
      },
      "execution_count": null,
      "outputs": [
        {
          "output_type": "stream",
          "name": "stdout",
          "text": [
            "\u001b[0m\u001b[1mInitializing the backend...\u001b[0m\n",
            "\u001b[0m\u001b[1mInitializing provider plugins...\u001b[0m\n",
            "- Reusing previous version of hashicorp/google from the dependency lock file\n",
            "- Using previously-installed hashicorp/google v4.85.0\n",
            "\n",
            "\u001b[0m\u001b[1m\u001b[32mTerraform has been successfully initialized!\u001b[0m\u001b[32m\u001b[0m\n",
            "\u001b[0m\u001b[32m\n",
            "You may now begin working with Terraform. Try running \"terraform plan\" to see\n",
            "any changes that are required for your infrastructure. All Terraform commands\n",
            "should now work.\n",
            "\n",
            "If you ever set or change modules or backend configuration for Terraform,\n",
            "rerun this command to reinitialize your working directory. If you forget, other\n",
            "commands will detect it and remind you to do so if necessary.\u001b[0m\n",
            "\u001b[0m\u001b[1mgoogle_storage_bucket.example: Refreshing state... [id=meu-bucket-terraform-colab]\u001b[0m\n",
            "\n",
            "Terraform used the selected providers to generate the following execution plan. Resource actions are indicated with the following symbols:\n",
            "\u001b[31m-\u001b[0m/\u001b[32m+\u001b[0m destroy and then create replacement\u001b[0m\n",
            "\n",
            "Terraform will perform the following actions:\n",
            "\n",
            "\u001b[1m  # google_storage_bucket.example\u001b[0m must be \u001b[1m\u001b[31mreplaced\u001b[0m\n",
            "\u001b[0m\u001b[31m-\u001b[0m/\u001b[32m+\u001b[0m\u001b[0m resource \"google_storage_bucket\" \"example\" {\n",
            "      \u001b[31m-\u001b[0m\u001b[0m default_event_based_hold    = false \u001b[90m-> null\u001b[0m\u001b[0m\n",
            "      \u001b[33m~\u001b[0m\u001b[0m id                          = \"meu-bucket-terraform-colab\" -> (known after apply)\n",
            "      \u001b[33m~\u001b[0m\u001b[0m labels                      = {} -> (known after apply)\n",
            "      \u001b[33m~\u001b[0m\u001b[0m name                        = \"meu-bucket-terraform-colab\" \u001b[33m->\u001b[0m\u001b[0m \"bucket-terraform-colab\" \u001b[31m# forces replacement\u001b[0m\u001b[0m\n",
            "      \u001b[33m~\u001b[0m\u001b[0m project                     = \"absolute-vertex-451423-n7\" -> (known after apply)\n",
            "      \u001b[33m~\u001b[0m\u001b[0m public_access_prevention    = \"inherited\" -> (known after apply)\n",
            "      \u001b[31m-\u001b[0m\u001b[0m requester_pays              = false \u001b[90m-> null\u001b[0m\u001b[0m\n",
            "      \u001b[33m~\u001b[0m\u001b[0m self_link                   = \"https://www.googleapis.com/storage/v1/b/meu-bucket-terraform-colab\" -> (known after apply)\n",
            "      \u001b[33m~\u001b[0m\u001b[0m uniform_bucket_level_access = false -> (known after apply)\n",
            "      \u001b[33m~\u001b[0m\u001b[0m url                         = \"gs://meu-bucket-terraform-colab\" -> (known after apply)\n",
            "        \u001b[90m# (3 unchanged attributes hidden)\u001b[0m\u001b[0m\n",
            "\n",
            "      \u001b[33m~\u001b[0m\u001b[0m soft_delete_policy (known after apply)\n",
            "      \u001b[31m-\u001b[0m\u001b[0m soft_delete_policy {\n",
            "          \u001b[31m-\u001b[0m\u001b[0m effective_time             = \"2025-02-19T00:13:19.724Z\" \u001b[90m-> null\u001b[0m\u001b[0m\n",
            "          \u001b[31m-\u001b[0m\u001b[0m retention_duration_seconds = 604800 \u001b[90m-> null\u001b[0m\u001b[0m\n",
            "        }\n",
            "\n",
            "      \u001b[33m~\u001b[0m\u001b[0m versioning (known after apply)\n",
            "\n",
            "      \u001b[33m~\u001b[0m\u001b[0m website (known after apply)\n",
            "    }\n",
            "\n",
            "\u001b[1mPlan:\u001b[0m 1 to add, 0 to change, 1 to destroy.\n",
            "\u001b[0m\u001b[0m\u001b[1mgoogle_storage_bucket.example: Destroying... [id=meu-bucket-terraform-colab]\u001b[0m\u001b[0m\n",
            "\u001b[0m\u001b[1mgoogle_storage_bucket.example: Destruction complete after 0s\u001b[0m\n",
            "\u001b[0m\u001b[1mgoogle_storage_bucket.example: Creating...\u001b[0m\u001b[0m\n",
            "\u001b[0m\u001b[1mgoogle_storage_bucket.example: Creation complete after 2s [id=bucket-terraform-colab]\u001b[0m\n",
            "\u001b[0m\u001b[1m\u001b[32m\n",
            "Apply complete! Resources: 1 added, 0 changed, 1 destroyed.\n",
            "\u001b[0m"
          ]
        }
      ]
    },
    {
      "cell_type": "code",
      "source": [
        "!terraform state list\n"
      ],
      "metadata": {
        "colab": {
          "base_uri": "https://localhost:8080/"
        },
        "id": "kKa_LOprgl5C",
        "outputId": "afb9d757-4184-4f05-d9c3-ecc119940415"
      },
      "execution_count": null,
      "outputs": [
        {
          "output_type": "stream",
          "name": "stdout",
          "text": [
            "google_storage_bucket.example\n"
          ]
        }
      ]
    },
    {
      "cell_type": "markdown",
      "source": [
        "# Atividade 2"
      ],
      "metadata": {
        "id": "Q2_WdyvalTKT"
      }
    },
    {
      "cell_type": "code",
      "source": [
        "# Criar o arquivo vm.tf\n",
        "\n",
        "%%writefile vm.tf\n",
        "\n",
        "resource \"google_compute_instance\" \"petadota_vm\" {\n",
        "  name         = \"petadota-vm\"\n",
        "  machine_type = \"e2-micro\"\n",
        "  zone         = \"us-central1-a\"\n",
        "\n",
        "  boot_disk {\n",
        "    initialize_params {\n",
        "      image = \"debian-cloud/debian-11\"\n",
        "    }\n",
        "  }\n",
        "\n",
        "  network_interface {\n",
        "    network = \"default\"\n",
        "    access_config {\n",
        "    }\n",
        "  }\n",
        "}\n"
      ],
      "metadata": {
        "colab": {
          "base_uri": "https://localhost:8080/"
        },
        "id": "2QKD-1ZQgr-H",
        "outputId": "7eddc527-cb6a-43c1-f31b-7d6902a148a8"
      },
      "execution_count": null,
      "outputs": [
        {
          "output_type": "stream",
          "name": "stdout",
          "text": [
            "Overwriting vm.tf\n"
          ]
        }
      ]
    },
    {
      "cell_type": "code",
      "source": [
        "!terraform init\n",
        "!terraform apply -auto-approve\n"
      ],
      "metadata": {
        "colab": {
          "base_uri": "https://localhost:8080/"
        },
        "id": "YvsbZQGLkNA9",
        "outputId": "fe2fca1d-af1a-4140-f483-1b1523aa5516"
      },
      "execution_count": null,
      "outputs": [
        {
          "output_type": "stream",
          "name": "stdout",
          "text": [
            "\u001b[0m\u001b[1mInitializing the backend...\u001b[0m\n",
            "\u001b[0m\u001b[1mInitializing provider plugins...\u001b[0m\n",
            "- Reusing previous version of hashicorp/google from the dependency lock file\n",
            "- Using previously-installed hashicorp/google v4.85.0\n",
            "\n",
            "\u001b[0m\u001b[1m\u001b[32mTerraform has been successfully initialized!\u001b[0m\u001b[32m\u001b[0m\n",
            "\u001b[0m\u001b[32m\n",
            "You may now begin working with Terraform. Try running \"terraform plan\" to see\n",
            "any changes that are required for your infrastructure. All Terraform commands\n",
            "should now work.\n",
            "\n",
            "If you ever set or change modules or backend configuration for Terraform,\n",
            "rerun this command to reinitialize your working directory. If you forget, other\n",
            "commands will detect it and remind you to do so if necessary.\u001b[0m\n",
            "\u001b[0m\u001b[1mgoogle_storage_bucket.example: Refreshing state... [id=bucket-terraform-colab]\u001b[0m\n",
            "\n",
            "Terraform used the selected providers to generate the following execution plan. Resource actions are indicated with the following symbols:\n",
            "  \u001b[32m+\u001b[0m create\u001b[0m\n",
            "\n",
            "Terraform will perform the following actions:\n",
            "\n",
            "\u001b[1m  # google_compute_instance.petadota_vm\u001b[0m will be created\n",
            "\u001b[0m  \u001b[32m+\u001b[0m\u001b[0m resource \"google_compute_instance\" \"petadota_vm\" {\n",
            "      \u001b[32m+\u001b[0m\u001b[0m can_ip_forward       = false\n",
            "      \u001b[32m+\u001b[0m\u001b[0m cpu_platform         = (known after apply)\n",
            "      \u001b[32m+\u001b[0m\u001b[0m current_status       = (known after apply)\n",
            "      \u001b[32m+\u001b[0m\u001b[0m deletion_protection  = false\n",
            "      \u001b[32m+\u001b[0m\u001b[0m guest_accelerator    = (known after apply)\n",
            "      \u001b[32m+\u001b[0m\u001b[0m id                   = (known after apply)\n",
            "      \u001b[32m+\u001b[0m\u001b[0m instance_id          = (known after apply)\n",
            "      \u001b[32m+\u001b[0m\u001b[0m label_fingerprint    = (known after apply)\n",
            "      \u001b[32m+\u001b[0m\u001b[0m machine_type         = \"e2-micro\"\n",
            "      \u001b[32m+\u001b[0m\u001b[0m metadata_fingerprint = (known after apply)\n",
            "      \u001b[32m+\u001b[0m\u001b[0m min_cpu_platform     = (known after apply)\n",
            "      \u001b[32m+\u001b[0m\u001b[0m name                 = \"petadota-vm\"\n",
            "      \u001b[32m+\u001b[0m\u001b[0m project              = (known after apply)\n",
            "      \u001b[32m+\u001b[0m\u001b[0m self_link            = (known after apply)\n",
            "      \u001b[32m+\u001b[0m\u001b[0m tags_fingerprint     = (known after apply)\n",
            "      \u001b[32m+\u001b[0m\u001b[0m zone                 = \"us-central1-a\"\n",
            "\n",
            "      \u001b[32m+\u001b[0m\u001b[0m boot_disk {\n",
            "          \u001b[32m+\u001b[0m\u001b[0m auto_delete                = true\n",
            "          \u001b[32m+\u001b[0m\u001b[0m device_name                = (known after apply)\n",
            "          \u001b[32m+\u001b[0m\u001b[0m disk_encryption_key_sha256 = (known after apply)\n",
            "          \u001b[32m+\u001b[0m\u001b[0m kms_key_self_link          = (known after apply)\n",
            "          \u001b[32m+\u001b[0m\u001b[0m mode                       = \"READ_WRITE\"\n",
            "          \u001b[32m+\u001b[0m\u001b[0m source                     = (known after apply)\n",
            "\n",
            "          \u001b[32m+\u001b[0m\u001b[0m initialize_params {\n",
            "              \u001b[32m+\u001b[0m\u001b[0m image  = \"debian-cloud/debian-11\"\n",
            "              \u001b[32m+\u001b[0m\u001b[0m labels = (known after apply)\n",
            "              \u001b[32m+\u001b[0m\u001b[0m size   = (known after apply)\n",
            "              \u001b[32m+\u001b[0m\u001b[0m type   = (known after apply)\n",
            "            }\n",
            "        }\n",
            "\n",
            "      \u001b[32m+\u001b[0m\u001b[0m confidential_instance_config (known after apply)\n",
            "\n",
            "      \u001b[32m+\u001b[0m\u001b[0m network_interface {\n",
            "          \u001b[32m+\u001b[0m\u001b[0m internal_ipv6_prefix_length = (known after apply)\n",
            "          \u001b[32m+\u001b[0m\u001b[0m ipv6_access_type            = (known after apply)\n",
            "          \u001b[32m+\u001b[0m\u001b[0m ipv6_address                = (known after apply)\n",
            "          \u001b[32m+\u001b[0m\u001b[0m name                        = (known after apply)\n",
            "          \u001b[32m+\u001b[0m\u001b[0m network                     = \"default\"\n",
            "          \u001b[32m+\u001b[0m\u001b[0m network_ip                  = (known after apply)\n",
            "          \u001b[32m+\u001b[0m\u001b[0m stack_type                  = (known after apply)\n",
            "          \u001b[32m+\u001b[0m\u001b[0m subnetwork                  = (known after apply)\n",
            "          \u001b[32m+\u001b[0m\u001b[0m subnetwork_project          = (known after apply)\n",
            "\n",
            "          \u001b[32m+\u001b[0m\u001b[0m access_config {\n",
            "              \u001b[32m+\u001b[0m\u001b[0m nat_ip       = (known after apply)\n",
            "              \u001b[32m+\u001b[0m\u001b[0m network_tier = (known after apply)\n",
            "            }\n",
            "        }\n",
            "\n",
            "      \u001b[32m+\u001b[0m\u001b[0m reservation_affinity (known after apply)\n",
            "\n",
            "      \u001b[32m+\u001b[0m\u001b[0m scheduling (known after apply)\n",
            "    }\n",
            "\n",
            "\u001b[1mPlan:\u001b[0m 1 to add, 0 to change, 0 to destroy.\n",
            "\u001b[0m\u001b[0m\u001b[1mgoogle_compute_instance.petadota_vm: Creating...\u001b[0m\u001b[0m\n",
            "\u001b[0m\u001b[1mgoogle_compute_instance.petadota_vm: Still creating... [10s elapsed]\u001b[0m\u001b[0m\n",
            "\u001b[0m\u001b[1mgoogle_compute_instance.petadota_vm: Creation complete after 15s [id=projects/absolute-vertex-451423-n7/zones/us-central1-a/instances/petadota-vm]\u001b[0m\n",
            "\u001b[0m\u001b[1m\u001b[32m\n",
            "Apply complete! Resources: 1 added, 0 changed, 0 destroyed.\n",
            "\u001b[0m"
          ]
        }
      ]
    },
    {
      "cell_type": "markdown",
      "source": [
        "# Atividade 3"
      ],
      "metadata": {
        "id": "Jgnxc45ilWRN"
      }
    },
    {
      "cell_type": "code",
      "source": [
        "!apt update && apt install -y ansible sshpass"
      ],
      "metadata": {
        "id": "8j4MqDPAkegT",
        "colab": {
          "base_uri": "https://localhost:8080/"
        },
        "outputId": "e9f62c3c-6b07-4329-8310-665c0e346794"
      },
      "execution_count": null,
      "outputs": [
        {
          "output_type": "stream",
          "name": "stdout",
          "text": [
            "Get:1 https://cloud.r-project.org/bin/linux/ubuntu jammy-cran40/ InRelease [3,632 B]\n",
            "Get:2 https://developer.download.nvidia.com/compute/cuda/repos/ubuntu2204/x86_64  InRelease [1,581 B]\n",
            "Get:3 http://security.ubuntu.com/ubuntu jammy-security InRelease [129 kB]\n",
            "Hit:4 http://archive.ubuntu.com/ubuntu jammy InRelease\n",
            "Get:5 https://r2u.stat.illinois.edu/ubuntu jammy InRelease [6,555 B]\n",
            "Get:6 http://archive.ubuntu.com/ubuntu jammy-updates InRelease [128 kB]\n",
            "Hit:7 https://ppa.launchpadcontent.net/deadsnakes/ppa/ubuntu jammy InRelease\n",
            "Hit:8 https://ppa.launchpadcontent.net/graphics-drivers/ppa/ubuntu jammy InRelease\n",
            "Hit:9 https://ppa.launchpadcontent.net/ubuntugis/ppa/ubuntu jammy InRelease\n",
            "Get:10 http://archive.ubuntu.com/ubuntu jammy-backports InRelease [127 kB]\n",
            "Get:11 https://developer.download.nvidia.com/compute/cuda/repos/ubuntu2204/x86_64  Packages [1,317 kB]\n",
            "Get:12 https://r2u.stat.illinois.edu/ubuntu jammy/main amd64 Packages [2,660 kB]\n",
            "Get:13 https://r2u.stat.illinois.edu/ubuntu jammy/main all Packages [8,687 kB]\n",
            "Get:14 http://security.ubuntu.com/ubuntu jammy-security/main amd64 Packages [2,610 kB]\n",
            "Get:15 http://security.ubuntu.com/ubuntu jammy-security/universe amd64 Packages [1,230 kB]\n",
            "Get:16 http://archive.ubuntu.com/ubuntu jammy-updates/restricted amd64 Packages [3,793 kB]\n",
            "Get:17 http://archive.ubuntu.com/ubuntu jammy-updates/universe amd64 Packages [1,526 kB]\n",
            "Get:18 http://archive.ubuntu.com/ubuntu jammy-updates/main amd64 Packages [2,939 kB]\n",
            "Fetched 25.2 MB in 10s (2,548 kB/s)\n",
            "Reading package lists... Done\n",
            "Building dependency tree... Done\n",
            "Reading state information... Done\n",
            "26 packages can be upgraded. Run 'apt list --upgradable' to see them.\n",
            "\u001b[1;33mW: \u001b[0mSkipping acquire of configured file 'main/source/Sources' as repository 'https://r2u.stat.illinois.edu/ubuntu jammy InRelease' does not seem to provide it (sources.list entry misspelt?)\u001b[0m\n",
            "Reading package lists... Done\n",
            "Building dependency tree... Done\n",
            "Reading state information... Done\n",
            "The following additional packages will be installed:\n",
            "  ieee-data netbase python-babel-localedata python3-argcomplete python3-babel python3-certifi\n",
            "  python3-chardet python3-dnspython python3-idna python3-jinja2 python3-jmespath python3-kerberos\n",
            "  python3-libcloud python3-lockfile python3-markupsafe python3-netaddr python3-ntlm-auth\n",
            "  python3-packaging python3-pycryptodome python3-requests python3-requests-kerberos\n",
            "  python3-requests-ntlm python3-requests-toolbelt python3-selinux python3-simplejson python3-tz\n",
            "  python3-urllib3 python3-winrm python3-xmltodict python3-yaml\n",
            "Suggested packages:\n",
            "  cowsay python3-sniffio python3-trio python-jinja2-doc python-lockfile-doc ipython3\n",
            "  python-netaddr-docs python3-openssl python3-socks python-requests-doc\n",
            "The following NEW packages will be installed:\n",
            "  ansible ieee-data netbase python-babel-localedata python3-argcomplete python3-babel\n",
            "  python3-certifi python3-chardet python3-dnspython python3-idna python3-jinja2 python3-jmespath\n",
            "  python3-kerberos python3-libcloud python3-lockfile python3-markupsafe python3-netaddr\n",
            "  python3-ntlm-auth python3-packaging python3-pycryptodome python3-requests\n",
            "  python3-requests-kerberos python3-requests-ntlm python3-requests-toolbelt python3-selinux\n",
            "  python3-simplejson python3-tz python3-urllib3 python3-winrm python3-xmltodict python3-yaml\n",
            "  sshpass\n",
            "0 upgraded, 32 newly installed, 0 to remove and 26 not upgraded.\n",
            "Need to get 28.7 MB of archives.\n",
            "After this operation, 274 MB of additional disk space will be used.\n",
            "Get:1 http://archive.ubuntu.com/ubuntu jammy/main amd64 netbase all 6.3 [12.9 kB]\n",
            "Get:2 http://archive.ubuntu.com/ubuntu jammy/main amd64 python3-yaml amd64 5.4.1-1ubuntu1 [129 kB]\n",
            "Get:3 http://archive.ubuntu.com/ubuntu jammy/main amd64 python-babel-localedata all 2.8.0+dfsg.1-7 [4,982 kB]\n",
            "Get:4 http://archive.ubuntu.com/ubuntu jammy-updates/main amd64 python3-tz all 2022.1-1ubuntu0.22.04.1 [30.7 kB]\n",
            "Get:5 http://archive.ubuntu.com/ubuntu jammy/main amd64 python3-babel all 2.8.0+dfsg.1-7 [85.1 kB]\n",
            "Get:6 http://archive.ubuntu.com/ubuntu jammy/main amd64 python3-markupsafe amd64 2.0.1-2build1 [12.7 kB]\n",
            "Get:7 http://archive.ubuntu.com/ubuntu jammy-updates/main amd64 python3-jinja2 all 3.0.3-1ubuntu0.3 [108 kB]\n",
            "Get:8 http://archive.ubuntu.com/ubuntu jammy/main amd64 python3-packaging all 21.3-1 [30.7 kB]\n",
            "Get:9 http://archive.ubuntu.com/ubuntu jammy-updates/main amd64 python3-pycryptodome amd64 3.11.0+dfsg1-3ubuntu0.1 [1,029 kB]\n",
            "Get:10 http://archive.ubuntu.com/ubuntu jammy/main amd64 python3-dnspython all 2.1.0-1ubuntu1 [123 kB]\n",
            "Get:11 http://archive.ubuntu.com/ubuntu jammy/main amd64 ieee-data all 20210605.1 [1,887 kB]\n",
            "Get:12 http://archive.ubuntu.com/ubuntu jammy/main amd64 python3-netaddr all 0.8.0-2 [309 kB]\n",
            "Get:13 http://archive.ubuntu.com/ubuntu jammy/universe amd64 ansible all 2.10.7+merged+base+2.10.8+dfsg-1 [17.5 MB]\n",
            "Get:14 http://archive.ubuntu.com/ubuntu jammy/universe amd64 python3-argcomplete all 1.8.1-1.5 [27.2 kB]\n",
            "Get:15 http://archive.ubuntu.com/ubuntu jammy/main amd64 python3-certifi all 2020.6.20-1 [150 kB]\n",
            "Get:16 http://archive.ubuntu.com/ubuntu jammy/main amd64 python3-chardet all 4.0.0-1 [98.0 kB]\n",
            "Get:17 http://archive.ubuntu.com/ubuntu jammy-updates/main amd64 python3-idna all 3.3-1ubuntu0.1 [52.1 kB]\n",
            "Get:18 http://archive.ubuntu.com/ubuntu jammy/main amd64 python3-jmespath all 0.10.0-1 [21.7 kB]\n",
            "Get:19 http://archive.ubuntu.com/ubuntu jammy/universe amd64 python3-kerberos amd64 1.1.14-3.1build5 [23.0 kB]\n",
            "Get:20 http://archive.ubuntu.com/ubuntu jammy/main amd64 python3-lockfile all 1:0.12.2-2.2 [14.6 kB]\n",
            "Get:21 http://archive.ubuntu.com/ubuntu jammy/main amd64 python3-simplejson amd64 3.17.6-1build1 [54.7 kB]\n",
            "Get:22 http://archive.ubuntu.com/ubuntu jammy-updates/main amd64 python3-urllib3 all 1.26.5-1~exp1ubuntu0.2 [98.3 kB]\n",
            "Get:23 http://archive.ubuntu.com/ubuntu jammy-updates/main amd64 python3-requests all 2.25.1+dfsg-2ubuntu0.1 [48.8 kB]\n",
            "Get:24 http://archive.ubuntu.com/ubuntu jammy/universe amd64 python3-libcloud all 3.2.0-2 [1,554 kB]\n",
            "Get:25 http://archive.ubuntu.com/ubuntu jammy/universe amd64 python3-ntlm-auth all 1.4.0-1 [20.4 kB]\n",
            "Get:26 http://archive.ubuntu.com/ubuntu jammy/universe amd64 python3-requests-kerberos all 0.12.0-2 [11.9 kB]\n",
            "Get:27 http://archive.ubuntu.com/ubuntu jammy/universe amd64 python3-requests-ntlm all 1.1.0-1.1 [6,160 B]\n",
            "Get:28 http://archive.ubuntu.com/ubuntu jammy/main amd64 python3-requests-toolbelt all 0.9.1-1 [38.0 kB]\n",
            "Get:29 http://archive.ubuntu.com/ubuntu jammy/universe amd64 python3-selinux amd64 3.3-1build2 [159 kB]\n",
            "Get:30 http://archive.ubuntu.com/ubuntu jammy/universe amd64 python3-xmltodict all 0.12.0-2 [12.6 kB]\n",
            "Get:31 http://archive.ubuntu.com/ubuntu jammy/universe amd64 python3-winrm all 0.3.0-2 [21.7 kB]\n",
            "Get:32 http://archive.ubuntu.com/ubuntu jammy/universe amd64 sshpass amd64 1.09-1 [11.7 kB]\n",
            "Fetched 28.7 MB in 3s (11.3 MB/s)\n",
            "Extracting templates from packages: 100%\n",
            "Selecting previously unselected package netbase.\n",
            "(Reading database ... 124926 files and directories currently installed.)\n",
            "Preparing to unpack .../00-netbase_6.3_all.deb ...\n",
            "Unpacking netbase (6.3) ...\n",
            "Selecting previously unselected package python3-yaml.\n",
            "Preparing to unpack .../01-python3-yaml_5.4.1-1ubuntu1_amd64.deb ...\n",
            "Unpacking python3-yaml (5.4.1-1ubuntu1) ...\n",
            "Selecting previously unselected package python-babel-localedata.\n",
            "Preparing to unpack .../02-python-babel-localedata_2.8.0+dfsg.1-7_all.deb ...\n",
            "Unpacking python-babel-localedata (2.8.0+dfsg.1-7) ...\n",
            "Selecting previously unselected package python3-tz.\n",
            "Preparing to unpack .../03-python3-tz_2022.1-1ubuntu0.22.04.1_all.deb ...\n",
            "Unpacking python3-tz (2022.1-1ubuntu0.22.04.1) ...\n",
            "Selecting previously unselected package python3-babel.\n",
            "Preparing to unpack .../04-python3-babel_2.8.0+dfsg.1-7_all.deb ...\n",
            "Unpacking python3-babel (2.8.0+dfsg.1-7) ...\n",
            "Selecting previously unselected package python3-markupsafe.\n",
            "Preparing to unpack .../05-python3-markupsafe_2.0.1-2build1_amd64.deb ...\n",
            "Unpacking python3-markupsafe (2.0.1-2build1) ...\n",
            "Selecting previously unselected package python3-jinja2.\n",
            "Preparing to unpack .../06-python3-jinja2_3.0.3-1ubuntu0.3_all.deb ...\n",
            "Unpacking python3-jinja2 (3.0.3-1ubuntu0.3) ...\n",
            "Selecting previously unselected package python3-packaging.\n",
            "Preparing to unpack .../07-python3-packaging_21.3-1_all.deb ...\n",
            "Unpacking python3-packaging (21.3-1) ...\n",
            "Selecting previously unselected package python3-pycryptodome.\n",
            "Preparing to unpack .../08-python3-pycryptodome_3.11.0+dfsg1-3ubuntu0.1_amd64.deb ...\n",
            "Unpacking python3-pycryptodome (3.11.0+dfsg1-3ubuntu0.1) ...\n",
            "Selecting previously unselected package python3-dnspython.\n",
            "Preparing to unpack .../09-python3-dnspython_2.1.0-1ubuntu1_all.deb ...\n",
            "Unpacking python3-dnspython (2.1.0-1ubuntu1) ...\n",
            "Selecting previously unselected package ieee-data.\n",
            "Preparing to unpack .../10-ieee-data_20210605.1_all.deb ...\n",
            "Unpacking ieee-data (20210605.1) ...\n",
            "Selecting previously unselected package python3-netaddr.\n",
            "Preparing to unpack .../11-python3-netaddr_0.8.0-2_all.deb ...\n",
            "Unpacking python3-netaddr (0.8.0-2) ...\n",
            "Selecting previously unselected package ansible.\n",
            "Preparing to unpack .../12-ansible_2.10.7+merged+base+2.10.8+dfsg-1_all.deb ...\n",
            "Unpacking ansible (2.10.7+merged+base+2.10.8+dfsg-1) ...\n",
            "Selecting previously unselected package python3-argcomplete.\n",
            "Preparing to unpack .../13-python3-argcomplete_1.8.1-1.5_all.deb ...\n",
            "Unpacking python3-argcomplete (1.8.1-1.5) ...\n",
            "Selecting previously unselected package python3-certifi.\n",
            "Preparing to unpack .../14-python3-certifi_2020.6.20-1_all.deb ...\n",
            "Unpacking python3-certifi (2020.6.20-1) ...\n",
            "Selecting previously unselected package python3-chardet.\n",
            "Preparing to unpack .../15-python3-chardet_4.0.0-1_all.deb ...\n",
            "Unpacking python3-chardet (4.0.0-1) ...\n",
            "Selecting previously unselected package python3-idna.\n",
            "Preparing to unpack .../16-python3-idna_3.3-1ubuntu0.1_all.deb ...\n",
            "Unpacking python3-idna (3.3-1ubuntu0.1) ...\n",
            "Selecting previously unselected package python3-jmespath.\n",
            "Preparing to unpack .../17-python3-jmespath_0.10.0-1_all.deb ...\n",
            "Unpacking python3-jmespath (0.10.0-1) ...\n",
            "Selecting previously unselected package python3-kerberos.\n",
            "Preparing to unpack .../18-python3-kerberos_1.1.14-3.1build5_amd64.deb ...\n",
            "Unpacking python3-kerberos (1.1.14-3.1build5) ...\n",
            "Selecting previously unselected package python3-lockfile.\n",
            "Preparing to unpack .../19-python3-lockfile_1%3a0.12.2-2.2_all.deb ...\n",
            "Unpacking python3-lockfile (1:0.12.2-2.2) ...\n",
            "Selecting previously unselected package python3-simplejson.\n",
            "Preparing to unpack .../20-python3-simplejson_3.17.6-1build1_amd64.deb ...\n",
            "Unpacking python3-simplejson (3.17.6-1build1) ...\n",
            "Selecting previously unselected package python3-urllib3.\n",
            "Preparing to unpack .../21-python3-urllib3_1.26.5-1~exp1ubuntu0.2_all.deb ...\n",
            "Unpacking python3-urllib3 (1.26.5-1~exp1ubuntu0.2) ...\n",
            "Selecting previously unselected package python3-requests.\n",
            "Preparing to unpack .../22-python3-requests_2.25.1+dfsg-2ubuntu0.1_all.deb ...\n",
            "Unpacking python3-requests (2.25.1+dfsg-2ubuntu0.1) ...\n",
            "Selecting previously unselected package python3-libcloud.\n",
            "Preparing to unpack .../23-python3-libcloud_3.2.0-2_all.deb ...\n",
            "Unpacking python3-libcloud (3.2.0-2) ...\n",
            "Selecting previously unselected package python3-ntlm-auth.\n",
            "Preparing to unpack .../24-python3-ntlm-auth_1.4.0-1_all.deb ...\n",
            "Unpacking python3-ntlm-auth (1.4.0-1) ...\n",
            "Selecting previously unselected package python3-requests-kerberos.\n",
            "Preparing to unpack .../25-python3-requests-kerberos_0.12.0-2_all.deb ...\n",
            "Unpacking python3-requests-kerberos (0.12.0-2) ...\n",
            "Selecting previously unselected package python3-requests-ntlm.\n",
            "Preparing to unpack .../26-python3-requests-ntlm_1.1.0-1.1_all.deb ...\n",
            "Unpacking python3-requests-ntlm (1.1.0-1.1) ...\n",
            "Selecting previously unselected package python3-requests-toolbelt.\n",
            "Preparing to unpack .../27-python3-requests-toolbelt_0.9.1-1_all.deb ...\n",
            "Unpacking python3-requests-toolbelt (0.9.1-1) ...\n",
            "Selecting previously unselected package python3-selinux.\n",
            "Preparing to unpack .../28-python3-selinux_3.3-1build2_amd64.deb ...\n",
            "Unpacking python3-selinux (3.3-1build2) ...\n",
            "Selecting previously unselected package python3-xmltodict.\n",
            "Preparing to unpack .../29-python3-xmltodict_0.12.0-2_all.deb ...\n",
            "Unpacking python3-xmltodict (0.12.0-2) ...\n",
            "Selecting previously unselected package python3-winrm.\n",
            "Preparing to unpack .../30-python3-winrm_0.3.0-2_all.deb ...\n",
            "Unpacking python3-winrm (0.3.0-2) ...\n",
            "Selecting previously unselected package sshpass.\n",
            "Preparing to unpack .../31-sshpass_1.09-1_amd64.deb ...\n",
            "Unpacking sshpass (1.09-1) ...\n",
            "Setting up python3-lockfile (1:0.12.2-2.2) ...\n",
            "Setting up python3-ntlm-auth (1.4.0-1) ...\n",
            "Setting up python3-pycryptodome (3.11.0+dfsg1-3ubuntu0.1) ...\n",
            "Setting up python3-kerberos (1.1.14-3.1build5) ...\n",
            "Setting up python3-yaml (5.4.1-1ubuntu1) ...\n",
            "Setting up python3-markupsafe (2.0.1-2build1) ...\n",
            "Setting up sshpass (1.09-1) ...\n",
            "Setting up python3-tz (2022.1-1ubuntu0.22.04.1) ...\n",
            "Setting up python-babel-localedata (2.8.0+dfsg.1-7) ...\n",
            "Setting up python3-simplejson (3.17.6-1build1) ...\n",
            "Setting up python3-xmltodict (0.12.0-2) ...\n",
            "Setting up python3-packaging (21.3-1) ...\n",
            "Setting up python3-chardet (4.0.0-1) ...\n",
            "Setting up python3-certifi (2020.6.20-1) ...\n",
            "Setting up python3-jmespath (0.10.0-1) ...\n",
            "Setting up python3-idna (3.3-1ubuntu0.1) ...\n",
            "Setting up python3-urllib3 (1.26.5-1~exp1ubuntu0.2) ...\n",
            "Setting up ieee-data (20210605.1) ...\n",
            "Setting up python3-selinux (3.3-1build2) ...\n",
            "Setting up netbase (6.3) ...\n",
            "Setting up python3-argcomplete (1.8.1-1.5) ...\n",
            "Setting up python3-babel (2.8.0+dfsg.1-7) ...\n",
            "update-alternatives: using /usr/bin/pybabel-python3 to provide /usr/bin/pybabel (pybabel) in auto mode\n",
            "Setting up python3-jinja2 (3.0.3-1ubuntu0.3) ...\n",
            "Setting up python3-requests (2.25.1+dfsg-2ubuntu0.1) ...\n",
            "Setting up python3-requests-kerberos (0.12.0-2) ...\n",
            "Setting up python3-netaddr (0.8.0-2) ...\n",
            "Setting up python3-dnspython (2.1.0-1ubuntu1) ...\n",
            "Setting up ansible (2.10.7+merged+base+2.10.8+dfsg-1) ...\n",
            "Setting up python3-requests-ntlm (1.1.0-1.1) ...\n",
            "Setting up python3-requests-toolbelt (0.9.1-1) ...\n",
            "Setting up python3-libcloud (3.2.0-2) ...\n",
            "Setting up python3-winrm (0.3.0-2) ...\n",
            "Processing triggers for man-db (2.10.2-1) ...\n"
          ]
        }
      ]
    },
    {
      "cell_type": "code",
      "source": [
        "# Crio o Playbook Ansible playbook.yml\n",
        "\n",
        "playbook_content = \"\"\"---\n",
        "- name: Configurar Servidor Web com Apache\n",
        "  hosts: localhost\n",
        "  become: yes\n",
        "\n",
        "  tasks:\n",
        "    - name: Atualizar pacotes\n",
        "      apt:\n",
        "        update_cache: yes\n",
        "\n",
        "    - name: Instalar Apache\n",
        "      package:\n",
        "        name: apache2\n",
        "        state: present\n",
        "\n",
        "    - name: Iniciar e habilitar Apache\n",
        "      service:\n",
        "        name: apache2\n",
        "        state: started\n",
        "        enabled: yes\n",
        "\"\"\"\n",
        "with open(\"playbook.yml\", \"w\") as file:\n",
        "    file.write(playbook_content)\n"
      ],
      "metadata": {
        "id": "MAqH4LajSkcX"
      },
      "execution_count": null,
      "outputs": []
    },
    {
      "cell_type": "code",
      "source": [
        "# Executar o Playbook\n",
        "\n",
        "!ansible-playbook -i \"localhost,\" -c local playbook.yml\n"
      ],
      "metadata": {
        "colab": {
          "base_uri": "https://localhost:8080/"
        },
        "id": "MB1LrwljSz0E",
        "outputId": "e732c523-4d78-4685-901c-bd20c98e8ad3"
      },
      "execution_count": null,
      "outputs": [
        {
          "output_type": "stream",
          "name": "stdout",
          "text": [
            "\n",
            "PLAY [Configurar Servidor Web com Apache] **************************************\n",
            "\n",
            "TASK [Gathering Facts] *********************************************************\n",
            "\u001b[0;32mok: [localhost]\u001b[0m\n",
            "\n",
            "TASK [Atualizar pacotes] *******************************************************\n",
            "\u001b[0;32mok: [localhost]\u001b[0m\n",
            "\n",
            "TASK [Instalar Apache] *********************************************************\n",
            "\u001b[1;35m[WARNING]: Skipping plugin (/usr/lib/python3/dist-\u001b[0m\n",
            "\u001b[1;35mpackages/ansible/plugins/filter/core.py) as it seems to be invalid: cannot\u001b[0m\n",
            "\u001b[1;35mimport name 'environmentfilter' from 'jinja2.filters'\u001b[0m\n",
            "\u001b[1;35m(/usr/local/lib/python3.11/dist-packages/jinja2/filters.py)\u001b[0m\n",
            "\u001b[1;35m[WARNING]: Skipping plugin (/usr/lib/python3/dist-\u001b[0m\n",
            "\u001b[1;35mpackages/ansible/plugins/filter/mathstuff.py) as it seems to be invalid: cannot\u001b[0m\n",
            "\u001b[1;35mimport name 'environmentfilter' from 'jinja2.filters'\u001b[0m\n",
            "\u001b[1;35m(/usr/local/lib/python3.11/dist-packages/jinja2/filters.py)\u001b[0m\n",
            "\u001b[0;33mchanged: [localhost]\u001b[0m\n",
            "\n",
            "TASK [Iniciar e habilitar Apache] **********************************************\n",
            "\u001b[1;35m[WARNING]: Skipping plugin (/usr/lib/python3/dist-\u001b[0m\n",
            "\u001b[1;35mpackages/ansible/plugins/filter/core.py) as it seems to be invalid: cannot\u001b[0m\n",
            "\u001b[1;35mimport name 'environmentfilter' from 'jinja2.filters'\u001b[0m\n",
            "\u001b[1;35m(/usr/local/lib/python3.11/dist-packages/jinja2/filters.py)\u001b[0m\n",
            "\u001b[1;35m[WARNING]: Skipping plugin (/usr/lib/python3/dist-\u001b[0m\n",
            "\u001b[1;35mpackages/ansible/plugins/filter/mathstuff.py) as it seems to be invalid: cannot\u001b[0m\n",
            "\u001b[1;35mimport name 'environmentfilter' from 'jinja2.filters'\u001b[0m\n",
            "\u001b[1;35m(/usr/local/lib/python3.11/dist-packages/jinja2/filters.py)\u001b[0m\n",
            "\u001b[0;33mchanged: [localhost]\u001b[0m\n",
            "\n",
            "PLAY RECAP *********************************************************************\n",
            "\u001b[0;33mlocalhost\u001b[0m                  : \u001b[0;32mok=4   \u001b[0m \u001b[0;33mchanged=2   \u001b[0m unreachable=0    failed=0    skipped=0    rescued=0    ignored=0   \n",
            "\n"
          ]
        }
      ]
    },
    {
      "cell_type": "markdown",
      "source": [
        "# Atividade 4"
      ],
      "metadata": {
        "id": "lK4iCI7mTnew"
      }
    },
    {
      "cell_type": "code",
      "source": [
        "# Crio o Playbook Ansible db-playbook.yml\n",
        "\n",
        "db_playbook_content = \"\"\"---\n",
        "- name: Configurar Servidor de Banco de Dados com MySQL\n",
        "  hosts: localhost\n",
        "  become: yes\n",
        "\n",
        "  tasks:\n",
        "    - name: Atualizar pacotes\n",
        "      apt:\n",
        "        update_cache: yes\n",
        "\n",
        "    - name: Instalar MySQL Server\n",
        "      package:\n",
        "        name: mysql-server\n",
        "        state: present\n",
        "\n",
        "    - name: Iniciar e habilitar MySQL\n",
        "      service:\n",
        "        name: mysql\n",
        "        state: started\n",
        "        enabled: yes\n",
        "\"\"\"\n",
        "with open(\"db-playbook.yml\", \"w\") as file:\n",
        "    file.write(db_playbook_content)"
      ],
      "metadata": {
        "id": "8k4OuKI1TTyd"
      },
      "execution_count": null,
      "outputs": []
    },
    {
      "cell_type": "code",
      "source": [
        "!ansible-playbook -i \"localhost,\" -c local db-playbook.yml"
      ],
      "metadata": {
        "colab": {
          "base_uri": "https://localhost:8080/"
        },
        "id": "kb6GYTjNUhwo",
        "outputId": "002f258f-d910-4316-ea52-825719a8a252"
      },
      "execution_count": null,
      "outputs": [
        {
          "output_type": "stream",
          "name": "stdout",
          "text": [
            "\n",
            "PLAY [Configurar Servidor de Banco de Dados com MySQL] *************************\n",
            "\n",
            "TASK [Gathering Facts] *********************************************************\n",
            "\u001b[0;32mok: [localhost]\u001b[0m\n",
            "\n",
            "TASK [Atualizar pacotes] *******************************************************\n",
            "\u001b[0;32mok: [localhost]\u001b[0m\n",
            "\n",
            "TASK [Instalar MySQL Server] ***************************************************\n",
            "\u001b[1;35m[WARNING]: Skipping plugin (/usr/lib/python3/dist-\u001b[0m\n",
            "\u001b[1;35mpackages/ansible/plugins/filter/core.py) as it seems to be invalid: cannot\u001b[0m\n",
            "\u001b[1;35mimport name 'environmentfilter' from 'jinja2.filters'\u001b[0m\n",
            "\u001b[1;35m(/usr/local/lib/python3.11/dist-packages/jinja2/filters.py)\u001b[0m\n",
            "\u001b[1;35m[WARNING]: Skipping plugin (/usr/lib/python3/dist-\u001b[0m\n",
            "\u001b[1;35mpackages/ansible/plugins/filter/mathstuff.py) as it seems to be invalid: cannot\u001b[0m\n",
            "\u001b[1;35mimport name 'environmentfilter' from 'jinja2.filters'\u001b[0m\n",
            "\u001b[1;35m(/usr/local/lib/python3.11/dist-packages/jinja2/filters.py)\u001b[0m\n",
            "\u001b[0;33mchanged: [localhost]\u001b[0m\n",
            "\n",
            "TASK [Iniciar e habilitar MySQL] ***********************************************\n",
            "\u001b[1;35m[WARNING]: Skipping plugin (/usr/lib/python3/dist-\u001b[0m\n",
            "\u001b[1;35mpackages/ansible/plugins/filter/core.py) as it seems to be invalid: cannot\u001b[0m\n",
            "\u001b[1;35mimport name 'environmentfilter' from 'jinja2.filters'\u001b[0m\n",
            "\u001b[1;35m(/usr/local/lib/python3.11/dist-packages/jinja2/filters.py)\u001b[0m\n",
            "\u001b[1;35m[WARNING]: Skipping plugin (/usr/lib/python3/dist-\u001b[0m\n",
            "\u001b[1;35mpackages/ansible/plugins/filter/mathstuff.py) as it seems to be invalid: cannot\u001b[0m\n",
            "\u001b[1;35mimport name 'environmentfilter' from 'jinja2.filters'\u001b[0m\n",
            "\u001b[1;35m(/usr/local/lib/python3.11/dist-packages/jinja2/filters.py)\u001b[0m\n",
            "\u001b[0;32mok: [localhost]\u001b[0m\n",
            "\n",
            "PLAY RECAP *********************************************************************\n",
            "\u001b[0;33mlocalhost\u001b[0m                  : \u001b[0;32mok=4   \u001b[0m \u001b[0;33mchanged=1   \u001b[0m unreachable=0    failed=0    skipped=0    rescued=0    ignored=0   \n",
            "\n"
          ]
        }
      ]
    },
    {
      "cell_type": "markdown",
      "source": [
        "# Atividade 5"
      ],
      "metadata": {
        "id": "-BDz4l28WAwQ"
      }
    },
    {
      "cell_type": "code",
      "source": [
        "!apt update && apt install -y ansible mysql-server python3-pip\n",
        "!pip install PyMySQL"
      ],
      "metadata": {
        "colab": {
          "base_uri": "https://localhost:8080/"
        },
        "id": "GN1nwYBFXEic",
        "outputId": "2c813b8e-630d-4f60-9dd5-432d0495c277"
      },
      "execution_count": null,
      "outputs": [
        {
          "output_type": "stream",
          "name": "stdout",
          "text": [
            "Hit:1 https://developer.download.nvidia.com/compute/cuda/repos/ubuntu2204/x86_64  InRelease\n",
            "Hit:2 http://archive.ubuntu.com/ubuntu jammy InRelease\n",
            "Hit:3 http://security.ubuntu.com/ubuntu jammy-security InRelease\n",
            "Hit:4 http://archive.ubuntu.com/ubuntu jammy-updates InRelease\n",
            "Hit:5 https://cloud.r-project.org/bin/linux/ubuntu jammy-cran40/ InRelease\n",
            "Hit:6 https://r2u.stat.illinois.edu/ubuntu jammy InRelease\n",
            "Hit:7 http://archive.ubuntu.com/ubuntu jammy-backports InRelease\n",
            "Hit:8 https://ppa.launchpadcontent.net/deadsnakes/ppa/ubuntu jammy InRelease\n",
            "Hit:9 https://ppa.launchpadcontent.net/graphics-drivers/ppa/ubuntu jammy InRelease\n",
            "Hit:10 https://ppa.launchpadcontent.net/ubuntugis/ppa/ubuntu jammy InRelease\n",
            "Reading package lists... Done\n",
            "Building dependency tree... Done\n",
            "Reading state information... Done\n",
            "26 packages can be upgraded. Run 'apt list --upgradable' to see them.\n",
            "\u001b[1;33mW: \u001b[0mSkipping acquire of configured file 'main/source/Sources' as repository 'https://r2u.stat.illinois.edu/ubuntu jammy InRelease' does not seem to provide it (sources.list entry misspelt?)\u001b[0m\n",
            "Reading package lists... Done\n",
            "Building dependency tree... Done\n",
            "Reading state information... Done\n",
            "ansible is already the newest version (2.10.7+merged+base+2.10.8+dfsg-1).\n",
            "mysql-server is already the newest version (8.0.41-0ubuntu0.22.04.1).\n",
            "Suggested packages:\n",
            "  python-setuptools-doc\n",
            "The following NEW packages will be installed:\n",
            "  python3-pip python3-setuptools python3-wheel\n",
            "0 upgraded, 3 newly installed, 0 to remove and 26 not upgraded.\n",
            "Need to get 1,677 kB of archives.\n",
            "After this operation, 8,968 kB of additional disk space will be used.\n",
            "Get:1 http://archive.ubuntu.com/ubuntu jammy-updates/main amd64 python3-setuptools all 59.6.0-1.2ubuntu0.22.04.2 [340 kB]\n",
            "Get:2 http://archive.ubuntu.com/ubuntu jammy-updates/universe amd64 python3-wheel all 0.37.1-2ubuntu0.22.04.1 [32.0 kB]\n",
            "Get:3 http://archive.ubuntu.com/ubuntu jammy-updates/universe amd64 python3-pip all 22.0.2+dfsg-1ubuntu0.5 [1,306 kB]\n",
            "Fetched 1,677 kB in 1s (1,152 kB/s)\n",
            "Selecting previously unselected package python3-setuptools.\n",
            "(Reading database ... 165742 files and directories currently installed.)\n",
            "Preparing to unpack .../python3-setuptools_59.6.0-1.2ubuntu0.22.04.2_all.deb ...\n",
            "Unpacking python3-setuptools (59.6.0-1.2ubuntu0.22.04.2) ...\n",
            "Selecting previously unselected package python3-wheel.\n",
            "Preparing to unpack .../python3-wheel_0.37.1-2ubuntu0.22.04.1_all.deb ...\n",
            "Unpacking python3-wheel (0.37.1-2ubuntu0.22.04.1) ...\n",
            "Selecting previously unselected package python3-pip.\n",
            "Preparing to unpack .../python3-pip_22.0.2+dfsg-1ubuntu0.5_all.deb ...\n",
            "Unpacking python3-pip (22.0.2+dfsg-1ubuntu0.5) ...\n",
            "Setting up python3-setuptools (59.6.0-1.2ubuntu0.22.04.2) ...\n",
            "Setting up python3-wheel (0.37.1-2ubuntu0.22.04.1) ...\n",
            "Setting up python3-pip (22.0.2+dfsg-1ubuntu0.5) ...\n",
            "Processing triggers for man-db (2.10.2-1) ...\n",
            "Collecting PyMySQL\n",
            "  Downloading PyMySQL-1.1.1-py3-none-any.whl.metadata (4.4 kB)\n",
            "Downloading PyMySQL-1.1.1-py3-none-any.whl (44 kB)\n",
            "\u001b[2K   \u001b[90m━━━━━━━━━━━━━━━━━━━━━━━━━━━━━━━━━━━━━━━━\u001b[0m \u001b[32m45.0/45.0 kB\u001b[0m \u001b[31m2.3 MB/s\u001b[0m eta \u001b[36m0:00:00\u001b[0m\n",
            "\u001b[?25hInstalling collected packages: PyMySQL\n",
            "Successfully installed PyMySQL-1.1.1\n"
          ]
        }
      ]
    },
    {
      "cell_type": "code",
      "source": [],
      "metadata": {
        "colab": {
          "base_uri": "https://localhost:8080/"
        },
        "id": "j6BOwtLCYARa",
        "outputId": "6f85dfd1-515c-4df2-e390-30d79c35b8e4"
      },
      "execution_count": null,
      "outputs": [
        {
          "output_type": "stream",
          "name": "stdout",
          "text": [
            "ERROR 2002 (HY000): Can't connect to local MySQL server through socket '/var/run/mysqld/mysqld.sock' (2)\n"
          ]
        }
      ]
    },
    {
      "cell_type": "code",
      "source": [
        "# Criar o novo playbook com o banco de dado no Mysql\n",
        "\n",
        "playbook_content = \"\"\"---\n",
        "- name: Configurar Servidor de Banco de Dados com MySQL\n",
        "  hosts: localhost\n",
        "  become: yes\n",
        "\n",
        "  tasks:\n",
        "    - name: Atualizar pacotes\n",
        "      apt:\n",
        "        update_cache: yes\n",
        "\n",
        "    - name: Instalar MySQL Server\n",
        "      package:\n",
        "        name: mysql-server\n",
        "        state: present\n",
        "\n",
        "    - name: Iniciar e habilitar MySQL\n",
        "      service:\n",
        "        name: mysql\n",
        "        state: started\n",
        "        enabled: yes\n",
        "\n",
        "    - name: Criar banco de dados petadota_db\n",
        "      community.mysql.mysql_db:\n",
        "        name: petadota_db\n",
        "        state: present\n",
        "        login_unix_socket: /var/run/mysqld/mysqld.sock\n",
        "\n",
        "    - name: Criar usuário petadmin\n",
        "      community.mysql.mysql_user:\n",
        "        name: petadmin\n",
        "        password: \"adminpet123\"\n",
        "        priv: \"petadota_db.*:ALL\"\n",
        "        state: present\n",
        "        login_unix_socket: /var/run/mysqld/mysqld.sock\n",
        "\"\"\"\n",
        "with open(\"db-playbook.yml\", \"w\") as file:\n",
        "    file.write(playbook_content)\n"
      ],
      "metadata": {
        "id": "m7LFii2LWByH"
      },
      "execution_count": null,
      "outputs": []
    },
    {
      "cell_type": "code",
      "source": [
        "!ansible-playbook -i \"localhost,\" -c local db-playbook.yml"
      ],
      "metadata": {
        "colab": {
          "base_uri": "https://localhost:8080/"
        },
        "id": "TYcrcxqqWnV3",
        "outputId": "d8e8ece5-11c5-4a42-a0d5-6a501c96c703"
      },
      "execution_count": null,
      "outputs": [
        {
          "output_type": "stream",
          "name": "stdout",
          "text": [
            "\n",
            "PLAY [Configurar Servidor de Banco de Dados com MySQL] *************************\n",
            "\n",
            "TASK [Gathering Facts] *********************************************************\n",
            "\u001b[0;32mok: [localhost]\u001b[0m\n",
            "\n",
            "TASK [Atualizar pacotes] *******************************************************\n",
            "\u001b[0;32mok: [localhost]\u001b[0m\n",
            "\n",
            "TASK [Instalar MySQL Server] ***************************************************\n",
            "\u001b[1;35m[WARNING]: Skipping plugin (/usr/lib/python3/dist-\u001b[0m\n",
            "\u001b[1;35mpackages/ansible/plugins/filter/core.py) as it seems to be invalid: cannot\u001b[0m\n",
            "\u001b[1;35mimport name 'environmentfilter' from 'jinja2.filters'\u001b[0m\n",
            "\u001b[1;35m(/usr/local/lib/python3.11/dist-packages/jinja2/filters.py)\u001b[0m\n",
            "\u001b[1;35m[WARNING]: Skipping plugin (/usr/lib/python3/dist-\u001b[0m\n",
            "\u001b[1;35mpackages/ansible/plugins/filter/mathstuff.py) as it seems to be invalid: cannot\u001b[0m\n",
            "\u001b[1;35mimport name 'environmentfilter' from 'jinja2.filters'\u001b[0m\n",
            "\u001b[1;35m(/usr/local/lib/python3.11/dist-packages/jinja2/filters.py)\u001b[0m\n",
            "\u001b[0;32mok: [localhost]\u001b[0m\n",
            "\n",
            "TASK [Iniciar e habilitar MySQL] ***********************************************\n",
            "\u001b[1;35m[WARNING]: Skipping plugin (/usr/lib/python3/dist-\u001b[0m\n",
            "\u001b[1;35mpackages/ansible/plugins/filter/core.py) as it seems to be invalid: cannot\u001b[0m\n",
            "\u001b[1;35mimport name 'environmentfilter' from 'jinja2.filters'\u001b[0m\n",
            "\u001b[1;35m(/usr/local/lib/python3.11/dist-packages/jinja2/filters.py)\u001b[0m\n",
            "\u001b[1;35m[WARNING]: Skipping plugin (/usr/lib/python3/dist-\u001b[0m\n",
            "\u001b[1;35mpackages/ansible/plugins/filter/mathstuff.py) as it seems to be invalid: cannot\u001b[0m\n",
            "\u001b[1;35mimport name 'environmentfilter' from 'jinja2.filters'\u001b[0m\n",
            "\u001b[1;35m(/usr/local/lib/python3.11/dist-packages/jinja2/filters.py)\u001b[0m\n",
            "\u001b[0;32mok: [localhost]\u001b[0m\n",
            "\n",
            "TASK [Criar banco de dados petadota_db] ****************************************\n",
            "\u001b[0;31mfatal: [localhost]: FAILED! => {\"changed\": false, \"msg\": \"unable to find /root/.my.cnf. Exception message: (2003, \\\"Can't connect to MySQL server on 'localhost' ([Errno 2] No such file or directory)\\\")\"}\u001b[0m\n",
            "\n",
            "PLAY RECAP *********************************************************************\n",
            "\u001b[0;31mlocalhost\u001b[0m                  : \u001b[0;32mok=4   \u001b[0m changed=0    unreachable=0    \u001b[0;31mfailed=1   \u001b[0m skipped=0    rescued=0    ignored=0   \n",
            "\n"
          ]
        }
      ]
    },
    {
      "cell_type": "code",
      "source": [
        "!apt update && apt install -y unzip\n",
        "!wget https://releases.hashicorp.com/terraform/1.5.5/terraform_1.5.5_linux_amd64.zip\n",
        "!unzip terraform_1.5.5_linux_amd64.zip\n",
        "!mv terraform /usr/local/bin/\n",
        "!terraform --version"
      ],
      "metadata": {
        "colab": {
          "base_uri": "https://localhost:8080/"
        },
        "id": "tOLxsMcoYrqA",
        "outputId": "ecd335b9-0aee-4b24-82d6-ce67c32a3aa2"
      },
      "execution_count": null,
      "outputs": [
        {
          "output_type": "stream",
          "name": "stdout",
          "text": [
            "Get:1 http://security.ubuntu.com/ubuntu jammy-security InRelease [129 kB]\n",
            "Hit:2 http://archive.ubuntu.com/ubuntu jammy InRelease\n",
            "Get:3 http://archive.ubuntu.com/ubuntu jammy-updates InRelease [128 kB]\n",
            "Get:4 https://cloud.r-project.org/bin/linux/ubuntu jammy-cran40/ InRelease [3,632 B]\n",
            "Get:5 https://developer.download.nvidia.com/compute/cuda/repos/ubuntu2204/x86_64  InRelease [1,581 B]\n",
            "Get:6 http://archive.ubuntu.com/ubuntu jammy-backports InRelease [127 kB]\n",
            "Get:7 https://r2u.stat.illinois.edu/ubuntu jammy InRelease [6,555 B]\n",
            "Hit:8 https://ppa.launchpadcontent.net/deadsnakes/ppa/ubuntu jammy InRelease\n",
            "Hit:9 https://ppa.launchpadcontent.net/graphics-drivers/ppa/ubuntu jammy InRelease\n",
            "Hit:10 https://ppa.launchpadcontent.net/ubuntugis/ppa/ubuntu jammy InRelease\n",
            "Get:11 http://security.ubuntu.com/ubuntu jammy-security/universe amd64 Packages [1,230 kB]\n",
            "Get:12 http://security.ubuntu.com/ubuntu jammy-security/main amd64 Packages [2,610 kB]\n",
            "Get:13 https://developer.download.nvidia.com/compute/cuda/repos/ubuntu2204/x86_64  Packages [1,317 kB]\n",
            "Get:14 http://archive.ubuntu.com/ubuntu jammy-updates/main amd64 Packages [2,939 kB]\n",
            "Get:15 http://archive.ubuntu.com/ubuntu jammy-updates/restricted amd64 Packages [3,793 kB]\n",
            "Get:16 http://archive.ubuntu.com/ubuntu jammy-updates/universe amd64 Packages [1,526 kB]\n",
            "Get:17 https://r2u.stat.illinois.edu/ubuntu jammy/main amd64 Packages [2,660 kB]\n",
            "Get:18 https://r2u.stat.illinois.edu/ubuntu jammy/main all Packages [8,687 kB]\n",
            "Fetched 25.2 MB in 9s (2,829 kB/s)\n",
            "Reading package lists... Done\n",
            "Building dependency tree... Done\n",
            "Reading state information... Done\n",
            "26 packages can be upgraded. Run 'apt list --upgradable' to see them.\n",
            "\u001b[1;33mW: \u001b[0mSkipping acquire of configured file 'main/source/Sources' as repository 'https://r2u.stat.illinois.edu/ubuntu jammy InRelease' does not seem to provide it (sources.list entry misspelt?)\u001b[0m\n",
            "Reading package lists... Done\n",
            "Building dependency tree... Done\n",
            "Reading state information... Done\n",
            "unzip is already the newest version (6.0-26ubuntu3.2).\n",
            "0 upgraded, 0 newly installed, 0 to remove and 26 not upgraded.\n",
            "--2025-02-19 22:49:25--  https://releases.hashicorp.com/terraform/1.5.5/terraform_1.5.5_linux_amd64.zip\n",
            "Resolving releases.hashicorp.com (releases.hashicorp.com)... 18.160.60.122, 18.160.60.2, 18.160.60.50, ...\n",
            "Connecting to releases.hashicorp.com (releases.hashicorp.com)|18.160.60.122|:443... connected.\n",
            "HTTP request sent, awaiting response... 200 OK\n",
            "Length: 21018563 (20M) [application/zip]\n",
            "Saving to: ‘terraform_1.5.5_linux_amd64.zip’\n",
            "\n",
            "terraform_1.5.5_lin 100%[===================>]  20.04M   110MB/s    in 0.2s    \n",
            "\n",
            "2025-02-19 22:49:26 (110 MB/s) - ‘terraform_1.5.5_linux_amd64.zip’ saved [21018563/21018563]\n",
            "\n",
            "Archive:  terraform_1.5.5_linux_amd64.zip\n",
            "  inflating: terraform               \n",
            "Terraform v1.5.5\n",
            "on linux_amd64\n",
            "\n",
            "Your version of Terraform is out of date! The latest version\n",
            "is 1.10.5. You can update by downloading from https://www.terraform.io/downloads.html\n"
          ]
        }
      ]
    },
    {
      "cell_type": "code",
      "source": [
        "from google.colab import auth\n",
        "auth.authenticate_user()\n",
        "\n",
        "!gcloud auth application-default login"
      ],
      "metadata": {
        "colab": {
          "base_uri": "https://localhost:8080/"
        },
        "id": "elpuTVzvYuBI",
        "outputId": "e9d7db29-9271-4132-8a16-0ab8923a3a31"
      },
      "execution_count": null,
      "outputs": [
        {
          "output_type": "stream",
          "name": "stdout",
          "text": [
            "\n",
            "You are running on a Google Compute Engine virtual machine.\n",
            "The service credentials associated with this virtual machine\n",
            "will automatically be used by Application Default\n",
            "Credentials, so it is not necessary to use this command.\n",
            "\n",
            "If you decide to proceed anyway, your user credentials may be visible\n",
            "to others with access to this virtual machine. Are you sure you want\n",
            "to authenticate with your personal account?\n",
            "\n",
            "Do you want to continue (Y/n)?  y\n",
            "\n",
            "Go to the following link in your browser, and complete the sign-in prompts:\n",
            "\n",
            "    https://accounts.google.com/o/oauth2/auth?response_type=code&client_id=764086051850-6qr4p6gpi6hn506pt8ejuq83di341hur.apps.googleusercontent.com&redirect_uri=https%3A%2F%2Fsdk.cloud.google.com%2Fapplicationdefaultauthcode.html&scope=openid+https%3A%2F%2Fwww.googleapis.com%2Fauth%2Fuserinfo.email+https%3A%2F%2Fwww.googleapis.com%2Fauth%2Fcloud-platform+https%3A%2F%2Fwww.googleapis.com%2Fauth%2Fsqlservice.login&state=882WriGjMhS7g0iSUqP7ioomqVhoBQ&prompt=consent&token_usage=remote&access_type=offline&code_challenge=eWVa2tpE7ozSAecYPJQ5FHdxJ6OVrK6GlbkHo_uzukg&code_challenge_method=S256\n",
            "\n",
            "Once finished, enter the verification code provided in your browser: 4/0ASVgi3KInk0lbndegXyxbbiDGO4ARNcNv0cr4266coS0Vj1ySQmbOXY2Mfm4gZ_hcsW5RQ\n",
            "\n",
            "Credentials saved to file: [/content/.config/application_default_credentials.json]\n",
            "\n",
            "These credentials will be used by any library that requests Application Default Credentials (ADC).\n",
            "\u001b[1;33mWARNING:\u001b[0m \n",
            "Cannot find a quota project to add to ADC. You might receive a \"quota exceeded\" or \"API not enabled\" error. Run $ gcloud auth application-default set-quota-project to add a quota project.\n"
          ]
        }
      ]
    },
    {
      "cell_type": "code",
      "source": [
        "!gcloud config set project absolute-vertex-451423-n7"
      ],
      "metadata": {
        "colab": {
          "base_uri": "https://localhost:8080/"
        },
        "id": "X7cHjF93aBl8",
        "outputId": "39a5dad7-9ebd-434f-bbd5-190d3c1eba1f"
      },
      "execution_count": null,
      "outputs": [
        {
          "output_type": "stream",
          "name": "stdout",
          "text": [
            "\u001b[1;33mWARNING:\u001b[0m Your active project does not match the quota project in your local Application Default Credentials file. This might result in unexpected quota issues.\n",
            "\n",
            "To update your Application Default Credentials quota project, use the `gcloud auth application-default set-quota-project` command.\n",
            "Updated property [core/project].\n"
          ]
        }
      ]
    },
    {
      "cell_type": "code",
      "source": [
        "# Criar o arquivo infra.tf\n",
        "\n",
        "terraform_code = \"\"\"provider \"google\" {\n",
        "  project = \"absolute-vertex-451423-n7\"\n",
        "  region  = \"us-central1\"\n",
        "}\n",
        "\n",
        "resource \"google_compute_instance\" \"vm_mysql\" {\n",
        "  name         = \"mysql-server\"\n",
        "  machine_type = \"e2-medium\"\n",
        "  zone         = \"us-central1-a\"\n",
        "\n",
        "  boot_disk {\n",
        "    initialize_params {\n",
        "      image = \"debian-cloud/debian-11\"\n",
        "    }\n",
        "  }\n",
        "\n",
        "  network_interface {\n",
        "    network = \"default\"\n",
        "    access_config {}\n",
        "  }\n",
        "\n",
        "  metadata_startup_script = <<EOT\n",
        "  sudo apt update\n",
        "  sudo apt install -y ansible\n",
        "  EOT\n",
        "}\n",
        "\"\"\"\n",
        "\n",
        "with open(\"infra.tf\", \"w\") as file:\n",
        "    file.write(terraform_code)\n"
      ],
      "metadata": {
        "id": "rtE7v0vEW3W1"
      },
      "execution_count": null,
      "outputs": []
    },
    {
      "cell_type": "code",
      "source": [
        "# Inicializar e Aplicar o Terraform\n",
        "\n",
        "!terraform init\n",
        "!terraform apply -auto-approve"
      ],
      "metadata": {
        "id": "GemZ0LX9YNUv",
        "colab": {
          "base_uri": "https://localhost:8080/"
        },
        "outputId": "967c4f6b-b9dd-4716-f3da-dd6d31cb759a"
      },
      "execution_count": null,
      "outputs": [
        {
          "output_type": "stream",
          "name": "stdout",
          "text": [
            "\n",
            "\u001b[0m\u001b[1mInitializing the backend...\u001b[0m\n",
            "\n",
            "\u001b[0m\u001b[1mInitializing provider plugins...\u001b[0m\n",
            "- Finding latest version of hashicorp/google...\n",
            "- Installing hashicorp/google v6.21.0...\n",
            "- Installed hashicorp/google v6.21.0 (signed by HashiCorp)\n",
            "\n",
            "Terraform has created a lock file \u001b[1m.terraform.lock.hcl\u001b[0m to record the provider\n",
            "selections it made above. Include this file in your version control repository\n",
            "so that Terraform can guarantee to make the same selections by default when\n",
            "you run \"terraform init\" in the future.\u001b[0m\n",
            "\n",
            "\u001b[0m\u001b[1m\u001b[32mTerraform has been successfully initialized!\u001b[0m\u001b[32m\u001b[0m\n",
            "\u001b[0m\u001b[32m\n",
            "You may now begin working with Terraform. Try running \"terraform plan\" to see\n",
            "any changes that are required for your infrastructure. All Terraform commands\n",
            "should now work.\n",
            "\n",
            "If you ever set or change modules or backend configuration for Terraform,\n",
            "rerun this command to reinitialize your working directory. If you forget, other\n",
            "commands will detect it and remind you to do so if necessary.\u001b[0m\n",
            "\n",
            "Terraform used the selected providers to generate the following execution plan. Resource actions are indicated with the following symbols:\n",
            "  \u001b[32m+\u001b[0m create\u001b[0m\n",
            "\n",
            "Terraform will perform the following actions:\n",
            "\n",
            "\u001b[1m  # google_compute_instance.vm_mysql\u001b[0m will be created\n",
            "\u001b[0m  \u001b[32m+\u001b[0m\u001b[0m resource \"google_compute_instance\" \"vm_mysql\" {\n",
            "      \u001b[32m+\u001b[0m\u001b[0m can_ip_forward          = false\n",
            "      \u001b[32m+\u001b[0m\u001b[0m cpu_platform            = (known after apply)\n",
            "      \u001b[32m+\u001b[0m\u001b[0m creation_timestamp      = (known after apply)\n",
            "      \u001b[32m+\u001b[0m\u001b[0m current_status          = (known after apply)\n",
            "      \u001b[32m+\u001b[0m\u001b[0m deletion_protection     = false\n",
            "      \u001b[32m+\u001b[0m\u001b[0m effective_labels        = {\n",
            "          \u001b[32m+\u001b[0m\u001b[0m \"goog-terraform-provisioned\" = \"true\"\n",
            "        }\n",
            "      \u001b[32m+\u001b[0m\u001b[0m id                      = (known after apply)\n",
            "      \u001b[32m+\u001b[0m\u001b[0m instance_id             = (known after apply)\n",
            "      \u001b[32m+\u001b[0m\u001b[0m label_fingerprint       = (known after apply)\n",
            "      \u001b[32m+\u001b[0m\u001b[0m machine_type            = \"e2-medium\"\n",
            "      \u001b[32m+\u001b[0m\u001b[0m metadata_fingerprint    = (known after apply)\n",
            "      \u001b[32m+\u001b[0m\u001b[0m metadata_startup_script = <<-EOT\n",
            "            sudo apt update\n",
            "              sudo apt install -y ansible\n",
            "        EOT\n",
            "      \u001b[32m+\u001b[0m\u001b[0m min_cpu_platform        = (known after apply)\n",
            "      \u001b[32m+\u001b[0m\u001b[0m name                    = \"mysql-server\"\n",
            "      \u001b[32m+\u001b[0m\u001b[0m project                 = \"absolute-vertex-451423-n7\"\n",
            "      \u001b[32m+\u001b[0m\u001b[0m self_link               = (known after apply)\n",
            "      \u001b[32m+\u001b[0m\u001b[0m tags_fingerprint        = (known after apply)\n",
            "      \u001b[32m+\u001b[0m\u001b[0m terraform_labels        = {\n",
            "          \u001b[32m+\u001b[0m\u001b[0m \"goog-terraform-provisioned\" = \"true\"\n",
            "        }\n",
            "      \u001b[32m+\u001b[0m\u001b[0m zone                    = \"us-central1-a\"\n",
            "\n",
            "      \u001b[32m+\u001b[0m\u001b[0m boot_disk {\n",
            "          \u001b[32m+\u001b[0m\u001b[0m auto_delete                = true\n",
            "          \u001b[32m+\u001b[0m\u001b[0m device_name                = (known after apply)\n",
            "          \u001b[32m+\u001b[0m\u001b[0m disk_encryption_key_sha256 = (known after apply)\n",
            "          \u001b[32m+\u001b[0m\u001b[0m kms_key_self_link          = (known after apply)\n",
            "          \u001b[32m+\u001b[0m\u001b[0m mode                       = \"READ_WRITE\"\n",
            "          \u001b[32m+\u001b[0m\u001b[0m source                     = (known after apply)\n",
            "\n",
            "          \u001b[32m+\u001b[0m\u001b[0m initialize_params {\n",
            "              \u001b[32m+\u001b[0m\u001b[0m image                  = \"debian-cloud/debian-11\"\n",
            "              \u001b[32m+\u001b[0m\u001b[0m labels                 = (known after apply)\n",
            "              \u001b[32m+\u001b[0m\u001b[0m provisioned_iops       = (known after apply)\n",
            "              \u001b[32m+\u001b[0m\u001b[0m provisioned_throughput = (known after apply)\n",
            "              \u001b[32m+\u001b[0m\u001b[0m resource_policies      = (known after apply)\n",
            "              \u001b[32m+\u001b[0m\u001b[0m size                   = (known after apply)\n",
            "              \u001b[32m+\u001b[0m\u001b[0m type                   = (known after apply)\n",
            "            }\n",
            "        }\n",
            "\n",
            "      \u001b[32m+\u001b[0m\u001b[0m network_interface {\n",
            "          \u001b[32m+\u001b[0m\u001b[0m internal_ipv6_prefix_length = (known after apply)\n",
            "          \u001b[32m+\u001b[0m\u001b[0m ipv6_access_type            = (known after apply)\n",
            "          \u001b[32m+\u001b[0m\u001b[0m ipv6_address                = (known after apply)\n",
            "          \u001b[32m+\u001b[0m\u001b[0m name                        = (known after apply)\n",
            "          \u001b[32m+\u001b[0m\u001b[0m network                     = \"default\"\n",
            "          \u001b[32m+\u001b[0m\u001b[0m network_ip                  = (known after apply)\n",
            "          \u001b[32m+\u001b[0m\u001b[0m stack_type                  = (known after apply)\n",
            "          \u001b[32m+\u001b[0m\u001b[0m subnetwork                  = (known after apply)\n",
            "          \u001b[32m+\u001b[0m\u001b[0m subnetwork_project          = (known after apply)\n",
            "\n",
            "          \u001b[32m+\u001b[0m\u001b[0m access_config {\n",
            "              \u001b[32m+\u001b[0m\u001b[0m nat_ip       = (known after apply)\n",
            "              \u001b[32m+\u001b[0m\u001b[0m network_tier = (known after apply)\n",
            "            }\n",
            "        }\n",
            "    }\n",
            "\n",
            "\u001b[1mPlan:\u001b[0m 1 to add, 0 to change, 0 to destroy.\n",
            "\u001b[0m\u001b[0m\u001b[1mgoogle_compute_instance.vm_mysql: Creating...\u001b[0m\u001b[0m\n",
            "\u001b[0m\u001b[1mgoogle_compute_instance.vm_mysql: Still creating... [10s elapsed]\u001b[0m\u001b[0m\n",
            "\u001b[0m\u001b[1mgoogle_compute_instance.vm_mysql: Still creating... [20s elapsed]\u001b[0m\u001b[0m\n",
            "\u001b[0m\u001b[1mgoogle_compute_instance.vm_mysql: Creation complete after 28s [id=projects/absolute-vertex-451423-n7/zones/us-central1-a/instances/mysql-server]\u001b[0m\n",
            "\u001b[0m\u001b[1m\u001b[32m\n",
            "Apply complete! Resources: 1 added, 0 changed, 0 destroyed.\n",
            "\u001b[0m"
          ]
        }
      ]
    },
    {
      "cell_type": "code",
      "source": [],
      "metadata": {
        "id": "CVTSuQ6FaNdC"
      },
      "execution_count": null,
      "outputs": []
    }
  ]
}